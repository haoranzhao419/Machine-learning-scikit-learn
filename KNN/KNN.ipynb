{
 "cells": [
  {
   "cell_type": "markdown",
   "metadata": {},
   "source": [
    "## KNN K-nearest neighbors algorithm"
   ]
  },
  {
   "cell_type": "markdown",
   "metadata": {},
   "source": [
    "KNN 是一种惰性学习模型（基于实例的学习模型）。惰性模型会对训练数据集进行少量或者完全不处理的方式。和简单线性回归这样的勤奋学习模型不同，KNN在训练阶段不会估计由模型生成的参数。惰性学习有利有弊。训练勤奋学习模型通常非常消耗计算资源，但是在模型预测阶段代价并不昂贵。但是在KNN这类惰性模型中，预测阶段往往要付出高昂的代价，在预测的过程中要求计算出每一个测试实例和所有训练实例之间的距离。\n",
    "\n",
    "KNN也是一种非参数模型。参数模型使用固定数量的参数或者系数去定义能够对数据进行总结的模型，参数的数量独立于训练实例的数量。但是非参数模型意味着模型参数的数量并不固定，它可能随着训练实例数量的增加而增加。\n",
    "\n",
    "当训练数据数量庞大，同时对响应变量和解释变量之间的关系所知甚少时，非参数模型会非常有用。KNN模型只基于一个假设，相互接近的实例拥有类似的响应变量值。非参数模型提供的灵活性并不总是可取的，当训练数据很缺乏或者对响应变量和解释变量之间的关系有所了解的时候，对响应变量和解释变量之间关系做出假设的模型就很有用。"
   ]
  },
  {
   "cell_type": "markdown",
   "metadata": {},
   "source": [
    "利用KNN解决二元分类问题（响应变量只能从两个标签中二选一的情况为二元分类）"
   ]
  },
  {
   "cell_type": "code",
   "execution_count": 1,
   "metadata": {},
   "outputs": [
    {
     "data": {
      "image/png": "[encoded data removed]",
      "text/plain": [
       "<Figure size 432x288 with 1 Axes>"
      ]
     },
     "metadata": {
      "needs_background": "light"
     },
     "output_type": "display_data"
    }
   ],
   "source": [
    "import numpy as np\n",
    "import matplotlib.pyplot as plt\n",
    "\n",
    "X_train = np.array([\n",
    "    [158, 64],\n",
    "    [170, 86],\n",
    "    [183, 84],\n",
    "    [191, 80],\n",
    "    [155, 49],\n",
    "    [163, 59],\n",
    "    [180, 67],\n",
    "    [158, 54],\n",
    "    [170, 67]\n",
    "])\n",
    "\n",
    "y_train = [\"male\", \"male\", 'male', 'male', 'female','female', 'female', 'female', 'female']\n",
    "\n",
    "plt.figure()\n",
    "plt.title(\"Human Heights and Weights by Sex\")\n",
    "plt.xlabel('Height in cm')\n",
    "plt.ylabel(\"Weight in ky\")\n",
    "\n",
    "for i, x in enumerate(X_train):\n",
    "    plt.scatter(x[0], x[1], c = \"k\", marker = \"x\" if y_train[i] == \"male\" else \"D\") # 这里\n",
    "    \n",
    "plt.grid(True)\n",
    "plt.show()"
   ]
  },
  {
   "cell_type": "code",
   "execution_count": 2,
   "metadata": {},
   "outputs": [
    {
     "name": "stdout",
     "output_type": "stream",
     "text": [
      "0\n",
      "158\n"
     ]
    }
   ],
   "source": [
    "for i, x in enumerate(X_train):\n",
    "    print(i)\n",
    "    print(x[0])\n",
    "    break"
   ]
  },
  {
   "cell_type": "markdown",
   "metadata": {},
   "source": [
    "KNN在分类问题中，如何判断给出的测试样例所属的分类呢？\n",
    "\n",
    "由于KNN是惰性学习模型，因此在预测阶段要通过计算测试实例和所有或给定数量的训练实例之间的距离来进行预测。\n",
    "\n",
    "在二维预测中我们通常使用高中所学的直角坐标系中两点之间的距离来进行距离的计算（即欧几里得空间中两点之间的直线距离）。"
   ]
  },
  {
   "cell_type": "code",
   "execution_count": 3,
   "metadata": {},
   "outputs": [
    {
     "data": {
      "text/plain": [
       "array([ 6.70820393, 21.9317122 , 31.30495168, 37.36308338, 21.        ,\n",
       "       13.60147051, 25.17935662, 16.2788206 , 15.29705854])"
      ]
     },
     "execution_count": 3,
     "metadata": {},
     "output_type": "execute_result"
    }
   ],
   "source": [
    "x = np.array([[155, 70]])\n",
    "# axis = 0 的时候，np.sum()方法实际上是让每一列的数据进行相加，axis = 1的时候实际上是每一行的数据进行相加。\n",
    "# 行不变，不同列之间相加（axis = 1）\n",
    "# 列不变，不同行之间相加（axis = 0）\n",
    "distances = np.sqrt(np.sum((X_train - x) **2, axis = 1))\n",
    "distances"
   ]
  },
  {
   "cell_type": "code",
   "execution_count": 41,
   "metadata": {},
   "outputs": [
    {
     "data": {
      "text/plain": [
       "array(['male', 'female', 'female'], dtype='<U6')"
      ]
     },
     "execution_count": 41,
     "metadata": {},
     "output_type": "execute_result"
    }
   ],
   "source": [
    "# argsort函数返回的是数组值从小到大的索引值\n",
    "nearest_neighbor_indices = distances.argsort()[:3]\n",
    "# print(list(nearest_neighbor_indices))\n",
    "# print(distances.argsort())\n",
    "# print(y_train)\n",
    "nearest_neighbor_genders = np.take(y_train, nearest_neighbor_indices)\n",
    "nearest_neighbor_genders"
   ]
  },
  {
   "cell_type": "markdown",
   "metadata": {},
   "source": [
    "nearest_neighbor_genders = np.array(y_train)[list(nearest_neighbor_indices)]\n",
    "\n",
    "nearest_neighbor_genders = np.take(y_train, nearest_neighbor_indices)\n",
    "\n",
    "上面这两行的功能是一样的，第一行用了np.array的\"fancy\"索引，第二行用了np.take()的用法"
   ]
  },
  {
   "cell_type": "code",
   "execution_count": 46,
   "metadata": {},
   "outputs": [
    {
     "name": "stdout",
     "output_type": "stream",
     "text": [
      "Counter({'female': 2, 'male': 1})\n",
      "[('female', 2)]\n",
      "('female', 2)\n"
     ]
    },
    {
     "data": {
      "text/plain": [
       "'female'"
      ]
     },
     "execution_count": 46,
     "metadata": {},
     "output_type": "execute_result"
    }
   ],
   "source": [
    "from collections import Counter\n",
    "b = Counter(np.take(y_train, distances.argsort()[:3]))\n",
    "print(b)\n",
    "print(b.most_common(1))\n",
    "print(b.most_common(1)[0])\n",
    "b.most_common(1)[0][0]"
   ]
  },
  {
   "cell_type": "code",
   "execution_count": 48,
   "metadata": {},
   "outputs": [],
   "source": [
    "from sklearn.preprocessing import LabelBinarizer\n",
    "from sklearn.neighbors import KNeighborsClassifier"
   ]
  },
  {
   "cell_type": "code",
   "execution_count": 50,
   "metadata": {},
   "outputs": [
    {
     "name": "stdout",
     "output_type": "stream",
     "text": [
      "['male', 'male', 'male', 'male', 'female', 'female', 'female', 'female', 'female']\n"
     ]
    },
    {
     "data": {
      "text/plain": [
       "array([[1],\n",
       "       [1],\n",
       "       [1],\n",
       "       [1],\n",
       "       [0],\n",
       "       [0],\n",
       "       [0],\n",
       "       [0],\n",
       "       [0]])"
      ]
     },
     "execution_count": 50,
     "metadata": {},
     "output_type": "execute_result"
    }
   ],
   "source": [
    "lb = LabelBinarizer()\n",
    "y_train_binarized = lb.fit_transform(y_train)\n",
    "print(y_train)\n",
    "y_train_binarized"
   ]
  },
  {
   "cell_type": "code",
   "execution_count": 68,
   "metadata": {},
   "outputs": [
    {
     "data": {
      "text/plain": [
       "array([1, 1, 1, 1, 0, 0, 0, 0, 0])"
      ]
     },
     "execution_count": 68,
     "metadata": {},
     "output_type": "execute_result"
    }
   ],
   "source": [
    "y_train_binarized.reshape(-1)"
   ]
  },
  {
   "cell_type": "code",
   "execution_count": 62,
   "metadata": {},
   "outputs": [
    {
     "data": {
      "text/plain": [
       "array([[158,  64],\n",
       "       [170,  86],\n",
       "       [183,  84],\n",
       "       [191,  80],\n",
       "       [155,  49],\n",
       "       [163,  59],\n",
       "       [180,  67],\n",
       "       [158,  54],\n",
       "       [170,  67]])"
      ]
     },
     "execution_count": 62,
     "metadata": {},
     "output_type": "execute_result"
    }
   ],
   "source": [
    "X_train"
   ]
  },
  {
   "cell_type": "code",
   "execution_count": 63,
   "metadata": {},
   "outputs": [
    {
     "data": {
      "text/plain": [
       "KNeighborsClassifier(n_neighbors=3)"
      ]
     },
     "execution_count": 63,
     "metadata": {},
     "output_type": "execute_result"
    }
   ],
   "source": [
    "K = 3\n",
    "clf = KNeighborsClassifier(n_neighbors = K)\n",
    "clf.fit(X_train, y_train_binarized.reshape(-1))"
   ]
  },
  {
   "cell_type": "code",
   "execution_count": 71,
   "metadata": {},
   "outputs": [
    {
     "data": {
      "text/plain": [
       "array([155,  70])"
      ]
     },
     "execution_count": 71,
     "metadata": {},
     "output_type": "execute_result"
    }
   ],
   "source": [
    "np.array([155, 70]).reshape( -1)"
   ]
  },
  {
   "cell_type": "code",
   "execution_count": 74,
   "metadata": {},
   "outputs": [],
   "source": [
    "prediction_binarized = clf.predict(np.array([155, 70]).reshape(1,-1))[0]"
   ]
  },
  {
   "cell_type": "code",
   "execution_count": 75,
   "metadata": {},
   "outputs": [
    {
     "data": {
      "text/plain": [
       "0"
      ]
     },
     "execution_count": 75,
     "metadata": {},
     "output_type": "execute_result"
    }
   ],
   "source": [
    "prediction_binarized"
   ]
  },
  {
   "cell_type": "code",
   "execution_count": 76,
   "metadata": {},
   "outputs": [
    {
     "data": {
      "text/plain": [
       "array(['female'], dtype='<U6')"
      ]
     },
     "execution_count": 76,
     "metadata": {},
     "output_type": "execute_result"
    }
   ],
   "source": [
    "predicted_label = lb.inverse_transform(prediction_binarized)\n",
    "predicted_label"
   ]
  },
  {
   "cell_type": "code",
   "execution_count": 87,
   "metadata": {},
   "outputs": [
    {
     "name": "stdout",
     "output_type": "stream",
     "text": [
      "Binarized labels: [1 1 0 0]\n"
     ]
    }
   ],
   "source": [
    "X_test = np.array([\n",
    "    [168,65],\n",
    "    [180,96],\n",
    "    [160,52],\n",
    "    [169,67]\n",
    "])\n",
    "\n",
    "y_test = [\"male\", \"male\", 'female', 'female']\n",
    "y_test_binarized = lb.transform(y_test)\n",
    "print('Binarized labels: {0}'.format(y_test_binarized.T[0]))"
   ]
  },
  {
   "cell_type": "code",
   "execution_count": 88,
   "metadata": {},
   "outputs": [
    {
     "name": "stdout",
     "output_type": "stream",
     "text": [
      "Binarized prediction: [0 1 0 0]\n"
     ]
    }
   ],
   "source": [
    "predictions_binarized = clf.predict(X_test)\n",
    "print(\"Binarized prediction: {}\".format(predictions_binarized))"
   ]
  },
  {
   "cell_type": "code",
   "execution_count": 89,
   "metadata": {},
   "outputs": [
    {
     "name": "stdout",
     "output_type": "stream",
     "text": [
      "Predicted label ['female' 'male' 'female' 'female']\n"
     ]
    }
   ],
   "source": [
    "print('Predicted label {}'.format(lb.inverse_transform(predictions_binarized)))"
   ]
  },
  {
   "attachments": {
    "image.png": {
     "image/png": "[encoded data removed]"
    }
   },
   "cell_type": "markdown",
   "metadata": {},
   "source": [
    "![image.png](attachment:image.png)\n",
    "TP（True Positive）: 实际为正类，预测为正类\n",
    "\n",
    "TN（True Negative）: 实际为正类，预测为负类\n",
    "\n",
    "FP（False Positive）: 实际为负类，预测为正类\n",
    "\n",
    "FN（False Negative）: 实际为正类，预测为负类"
   ]
  },
  {
   "cell_type": "markdown",
   "metadata": {},
   "source": [
    "准确率"
   ]
  },
  {
   "cell_type": "code",
   "execution_count": 90,
   "metadata": {},
   "outputs": [
    {
     "name": "stdout",
     "output_type": "stream",
     "text": [
      "Accuracy: 0.75\n"
     ]
    }
   ],
   "source": [
    "from sklearn.metrics import accuracy_score\n",
    "print('Accuracy: {}'.format(accuracy_score(y_test_binarized, predictions_binarized)))"
   ]
  },
  {
   "cell_type": "markdown",
   "metadata": {},
   "source": [
    "精确率"
   ]
  },
  {
   "cell_type": "code",
   "execution_count": 91,
   "metadata": {},
   "outputs": [
    {
     "name": "stdout",
     "output_type": "stream",
     "text": [
      "Precision: 1.0\n"
     ]
    }
   ],
   "source": [
    "# 精确率是实际为正样本占被预测为正样本的比率\n",
    "from sklearn.metrics import precision_score\n",
    "print('Precision: {}'.format(precision_score(y_test_binarized, predictions_binarized)))"
   ]
  },
  {
   "cell_type": "markdown",
   "metadata": {},
   "source": [
    "召回率"
   ]
  },
  {
   "cell_type": "code",
   "execution_count": 93,
   "metadata": {},
   "outputs": [
    {
     "name": "stdout",
     "output_type": "stream",
     "text": [
      "Recall: 0.5\n"
     ]
    }
   ],
   "source": [
    "# 召回率是真实为正向类的测试实例被预测为正向类的比率\n",
    "from sklearn.metrics import recall_score\n",
    "print('Recall: {}'.format(recall_score(y_test_binarized, predictions_binarized)))"
   ]
  },
  {
   "attachments": {
    "image.png": {
     "image/png": "[encoded data removed]"
    }
   },
   "cell_type": "markdown",
   "metadata": {},
   "source": [
    "F1 score\n",
    "![image.png](attachment:image.png)"
   ]
  },
  {
   "cell_type": "code",
   "execution_count": 94,
   "metadata": {},
   "outputs": [
    {
     "name": "stdout",
     "output_type": "stream",
     "text": [
      "F1 score: 0.6666666666666666\n"
     ]
    }
   ],
   "source": [
    "from sklearn.metrics import f1_score\n",
    "print('F1 score: {}'.format(f1_score(y_test_binarized, predictions_binarized)))"
   ]
  },
  {
   "cell_type": "markdown",
   "metadata": {},
   "source": [
    "马修斯相关系数（MCC）是除F1得分以外，另一种对二元分类器性能进行衡量的选择。一个完美分类器的MCC值为1，随机进行预测的分类器MCC的得分为0， 完全预测错误的分类器MCC得分为-1。即使当测试数据集的类别比例非常不平衡时，MCC得分也非常有用。"
   ]
  },
  {
   "cell_type": "code",
   "execution_count": 95,
   "metadata": {},
   "outputs": [
    {
     "name": "stdout",
     "output_type": "stream",
     "text": [
      "Mattews correlation coefficient: 0.5773502691896258\n"
     ]
    }
   ],
   "source": [
    "from sklearn.metrics import matthews_corrcoef\n",
    "print('Mattews correlation coefficient: %s' %matthews_corrcoef(y_test_binarized, predictions_binarized))"
   ]
  },
  {
   "cell_type": "markdown",
   "metadata": {},
   "source": [
    "sklearn还提供了一个函数能够同时生成精确率、召回率和F1得分。"
   ]
  },
  {
   "cell_type": "markdown",
   "metadata": {},
   "source": [
    "Macro Average\n",
    "\n",
    "宏平均是指在计算均值时使每个类别具有相同的权重，最后结果是每个类别的指标的算术平均值。\n",
    "\n",
    "Micro Average\n",
    "\n",
    "微平均是指计算多分类指标时赋予所有类别的每个样本相同的权重，将所有样本合在一起计算各个指标。\n",
    "\n",
    "如果每个类别的样本数量差不多，那么宏平均和微平均没有太大差异\n",
    "\n",
    "如果每个类别的样本数量差异很大，那么注重样本量多的类时使用微平均，注重样本量少的类时使用宏平均\n",
    "\n",
    "如果微平均大大低于宏平均，那么检查样本量多的类来确定指标表现差的原因\n",
    "\n",
    "如果宏平均大大低于微平均，那么检查样本量少的类来确定指标表现差的原因\n"
   ]
  },
  {
   "cell_type": "code",
   "execution_count": 98,
   "metadata": {},
   "outputs": [
    {
     "name": "stdout",
     "output_type": "stream",
     "text": [
      "              precision    recall  f1-score   support\n",
      "\n",
      "        male       1.00      0.50      0.67         2\n",
      "\n",
      "   micro avg       1.00      0.50      0.67         2\n",
      "   macro avg       1.00      0.50      0.67         2\n",
      "weighted avg       1.00      0.50      0.67         2\n",
      "\n"
     ]
    }
   ],
   "source": [
    "from sklearn.metrics import classification_report\n",
    "print(classification_report(y_test_binarized, predictions_binarized, target_names = ['male'], labels = [1]))"
   ]
  },
  {
   "cell_type": "code",
   "execution_count": 101,
   "metadata": {},
   "outputs": [
    {
     "name": "stdout",
     "output_type": "stream",
     "text": [
      "              precision    recall  f1-score   support\n",
      "\n",
      "      female       0.67      1.00      0.80         2\n",
      "\n",
      "   micro avg       0.67      1.00      0.80         2\n",
      "   macro avg       0.67      1.00      0.80         2\n",
      "weighted avg       0.67      1.00      0.80         2\n",
      "\n"
     ]
    }
   ],
   "source": [
    "print(classification_report(y_test_binarized, predictions_binarized, target_names = ['female'], labels = [0]))"
   ]
  },
  {
   "cell_type": "markdown",
   "metadata": {},
   "source": [
    "### KNN回归问题"
   ]
  },
  {
   "cell_type": "code",
   "execution_count": 1,
   "metadata": {},
   "outputs": [],
   "source": [
    "import numpy as np\n",
    "from sklearn.neighbors import KNeighborsRegressor\n",
    "from sklearn.metrics import mean_absolute_error, mean_squared_error, r2_score"
   ]
  },
  {
   "cell_type": "markdown",
   "metadata": {},
   "source": [
    "在衡量回归模型性能好坏的时候我们引入两个新的指标————平均绝对误差（MAE）和均方误差（MSE）\n",
    "\n",
    "MAE是预测结果误差绝对值之和的均值\n",
    "\n",
    "MSE是预测结果误差平方之和的均值\n",
    "\n",
    "对于回归模型性能衡量指标来说，忽略误差的方向非常重要，否则一个回归模型中的正负方向的误差会相互抵消。MSE和MAE分别通过对误差求平方和求绝对值的方法避免了这个问题。对于一个较大的误差值求平方会加大它对整体误差的贡献比例，因此MSE比MAE对于异常值的惩罚程度要高。该特性对于一些问题来说非常有用。由于MSE具有非常有用的数学特性，它通常是性能衡量指标当仁不让的首选"
   ]
  },
  {
   "cell_type": "code",
   "execution_count": 2,
   "metadata": {},
   "outputs": [],
   "source": [
    "X_train = np.array([\n",
    "    [158, 1],\n",
    "    [170, 1],\n",
    "    [183, 1],\n",
    "    [191, 1],\n",
    "    [155, 0],\n",
    "    [163, 0],\n",
    "    [180, 0],\n",
    "    [158, 0],\n",
    "    [170, 0]\n",
    "])\n",
    "\n",
    "y_train = [64, 86, 84, 80, 49, 59, 67, 54, 67]\n",
    "\n",
    "X_test = np.array([\n",
    "    [168, 1],\n",
    "    [180, 1],\n",
    "    [160, 0],\n",
    "    [169, 0]\n",
    "])\n",
    "\n",
    "y_test = [65, 96, 52, 67]"
   ]
  },
  {
   "cell_type": "code",
   "execution_count": 3,
   "metadata": {},
   "outputs": [
    {
     "name": "stdout",
     "output_type": "stream",
     "text": [
      "Predicted wieghts: [70.66666667 79.         59.         70.66666667]\n",
      "Coefficient of determination: 0.6290565226735438\n",
      "Mean absolute error: 8.333333333333336\n",
      "Mean squared error 95.8888888888889\n"
     ]
    }
   ],
   "source": [
    "K = 3\n",
    "clf = KNeighborsRegressor(n_neighbors=K)\n",
    "clf.fit(X_train, y_train)\n",
    "predictions = clf.predict(X_test)\n",
    "print('Predicted wieghts: %s' % predictions)\n",
    "print('Coefficient of determination: %s' % r2_score(y_test, predictions))\n",
    "print('Mean absolute error: %s' %mean_absolute_error(y_test, predictions))\n",
    "print('Mean squared error %s' %mean_squared_error(y_test, predictions) )"
   ]
  },
  {
   "cell_type": "markdown",
   "metadata": {},
   "source": [
    "特征缩放"
   ]
  },
  {
   "cell_type": "code",
   "execution_count": 15,
   "metadata": {},
   "outputs": [],
   "source": [
    "from scipy.spatial.distance import euclidean\n",
    "import numpy as np"
   ]
  },
  {
   "cell_type": "code",
   "execution_count": 23,
   "metadata": {},
   "outputs": [
    {
     "name": "stdout",
     "output_type": "stream",
     "text": [
      "60.0\n",
      "40.01249804748511\n"
     ]
    }
   ],
   "source": [
    "# heights in millimeters\n",
    "X_train = np.array([\n",
    "    [1700, 1],\n",
    "    [1600, 0]\n",
    "])\n",
    "\n",
    "x_test = np.array([1640, 1]).reshape(1, -1)\n",
    "print(euclidean(X_train[0, :], x_test))\n",
    "print(euclidean(X_train[1, :], x_test))"
   ]
  },
  {
   "cell_type": "code",
   "execution_count": 24,
   "metadata": {},
   "outputs": [
    {
     "name": "stdout",
     "output_type": "stream",
     "text": [
      "162.3\n",
      "162.40307878855006\n"
     ]
    }
   ],
   "source": [
    "# heights in meters\n",
    "X_train = np.array([\n",
    "    [1.7, 1],\n",
    "    [1.6, 0]\n",
    "])\n",
    "x_test = np.array([164, 1]).reshape(1, -1)\n",
    "print(euclidean(X_train[0, :], x_test))\n",
    "print(euclidean(X_train[1, :], x_test))"
   ]
  },
  {
   "cell_type": "markdown",
   "metadata": {},
   "source": [
    "sklearn中的StandardScaler类是一个用于特征缩放的转换器，它能确保所有的特征都有单位方差（即方差 = 1）。\n",
    "\n",
    "这个类的方法为：首先将所有实例特征值减去均值来将其居中。其次将每个实例特征值除以特征的标准差对其进行缩放。通过以上的两步处理得到的一组新的数据。这组数据中均值为0，方差为1称为标准化数据。"
   ]
  },
  {
   "cell_type": "code",
   "execution_count": 25,
   "metadata": {},
   "outputs": [],
   "source": [
    "X_train = np.array([\n",
    "    [158, 1],\n",
    "    [170, 1],\n",
    "    [183, 1],\n",
    "    [191, 1],\n",
    "    [155, 0],\n",
    "    [163, 0],\n",
    "    [180, 0],\n",
    "    [158, 0],\n",
    "    [170, 0]\n",
    "])\n",
    "\n",
    "y_train = [64, 86, 84, 80, 49, 59, 67, 54, 67]\n",
    "\n",
    "X_test = np.array([\n",
    "    [168, 1],\n",
    "    [180, 1],\n",
    "    [160, 0],\n",
    "    [169, 0]\n",
    "])\n",
    "\n",
    "y_test = [65, 96, 52, 67]"
   ]
  },
  {
   "cell_type": "code",
   "execution_count": 29,
   "metadata": {},
   "outputs": [
    {
     "name": "stdout",
     "output_type": "stream",
     "text": [
      "[[158   1]\n",
      " [170   1]\n",
      " [183   1]\n",
      " [191   1]\n",
      " [155   0]\n",
      " [163   0]\n",
      " [180   0]\n",
      " [158   0]\n",
      " [170   0]]\n",
      "[[-0.9908706   1.11803399]\n",
      " [ 0.01869567  1.11803399]\n",
      " [ 1.11239246  1.11803399]\n",
      " [ 1.78543664  1.11803399]\n",
      " [-1.24326216 -0.89442719]\n",
      " [-0.57021798 -0.89442719]\n",
      " [ 0.86000089 -0.89442719]\n",
      " [-0.9908706  -0.89442719]\n",
      " [ 0.01869567 -0.89442719]]\n"
     ]
    }
   ],
   "source": [
    "from sklearn.preprocessing import StandardScaler\n",
    "from sklearn.neighbors import KNeighborsRegressor\n",
    "from sklearn.metrics import mean_absolute_error, mean_squared_error, r2_score\n",
    "ss = StandardScaler()\n",
    "X_train_scaled = ss.fit_transform(X_train)\n",
    "print(X_train)\n",
    "print(X_train_scaled)"
   ]
  },
  {
   "cell_type": "code",
   "execution_count": 31,
   "metadata": {},
   "outputs": [
    {
     "name": "stdout",
     "output_type": "stream",
     "text": [
      "Predicted wieghts: [78.         83.33333333 54.         64.33333333]\n",
      "Coefficient of determination: 0.6706425961745109\n",
      "Mean absolute error: 7.583333333333336\n",
      "Mean squared error: 85.13888888888893\n"
     ]
    }
   ],
   "source": [
    "X_test_scaled = ss.fit_transform(X_test)\n",
    "K = 3\n",
    "clf = KNeighborsRegressor(n_neighbors=K)\n",
    "clf.fit(X_train_scaled, y_train)\n",
    "predictions = clf.predict(X_test_scaled)\n",
    "print('Predicted wieghts: %s' %predictions)\n",
    "print('Coefficient of determination: %s' %r2_score(y_test, predictions))\n",
    "print('Mean absolute error: %s' %mean_absolute_error(y_test, predictions))\n",
    "print('Mean squared error: %s' %mean_squared_error(y_test, predictions))"
   ]
  },
  {
   "cell_type": "code",
   "execution_count": null,
   "metadata": {},
   "outputs": [],
   "source": []
  }
 ],
 "metadata": {
  "kernelspec": {
   "display_name": "Python 3",
   "language": "python",
   "name": "python3"
  },
  "language_info": {
   "codemirror_mode": {
    "name": "ipython",
    "version": 3
   },
   "file_extension": ".py",
   "mimetype": "text/x-python",
   "name": "python",
   "nbconvert_exporter": "python",
   "pygments_lexer": "ipython3",
   "version": "3.8.5"
  }
 },
 "nbformat": 4,
 "nbformat_minor": 4
}
