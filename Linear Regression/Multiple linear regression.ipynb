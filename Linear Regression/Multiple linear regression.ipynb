{
 "cells": [
  {
   "attachments": {
    "image-2.png": {
     "image/png": "[encoded data removed]"
    },
    "image-3.png": {
     "image/png": "[encoded data removed]"
    },
    "image.png": {
     "image/png": "[encoded data removed]"
    }
   },
   "cell_type": "markdown",
   "metadata": {},
   "source": [
    "### 多元线性回归\n",
    "\n",
    "多元线性回归是一种将一个连续响应变量在多个特征上进行回归的简单线性回归泛化形式\n",
    "![image.png](attachment:image.png)\n",
    "通常请况下将Y表示为![image-2.png](attachment:image-2.png)\n",
    "其中X被称为设计矩阵，是一个由训练实例解释变量组成的m*n的矩阵。m表示训练实力的数量，n表示特征的数量。\n",
    "\n",
    "![image-3.png](attachment:image-3.png)是一个由模型参数值组成的列向量"
   ]
  },
  {
   "cell_type": "code",
   "execution_count": 1,
   "metadata": {},
   "outputs": [],
   "source": [
    "from numpy.linalg import inv\n",
    "from numpy import dot, transpose"
   ]
  },
  {
   "cell_type": "code",
   "execution_count": 2,
   "metadata": {},
   "outputs": [
    {
     "name": "stdout",
     "output_type": "stream",
     "text": [
      "[[1.1875    ]\n",
      " [1.01041667]\n",
      " [0.39583333]]\n"
     ]
    }
   ],
   "source": [
    "X = [[1,6,2],[1,8,1],[1,10,0],[1,14,2],[1,18,0]]\n",
    "y = [[7],[9],[13],[17.5],[18]]\n",
    "print(dot(inv(dot(transpose(X), X)), dot(transpose(X), y)))"
   ]
  },
  {
   "cell_type": "code",
   "execution_count": 3,
   "metadata": {},
   "outputs": [
    {
     "name": "stdout",
     "output_type": "stream",
     "text": [
      "[[1.1875    ]\n",
      " [1.01041667]\n",
      " [0.39583333]]\n"
     ]
    },
    {
     "name": "stderr",
     "output_type": "stream",
     "text": [
      "<ipython-input-3-3b132c003128>:4: FutureWarning: `rcond` parameter will change to the default of machine precision times ``max(M, N)`` where M and N are the input matrix dimensions.\n",
      "To use the future default and silence this warning we advise to pass `rcond=None`, to keep using the old, explicitly pass `rcond=-1`.\n",
      "  print(lstsq(X, y)[0])\n"
     ]
    }
   ],
   "source": [
    "from numpy.linalg import lstsq\n",
    "X = [[1,6,2],[1,8,1],[1,10,0],[1,14,2],[1,18,0]]\n",
    "y = [[7],[9],[13],[17.5],[18]]\n",
    "print(lstsq(X, y)[0])"
   ]
  },
  {
   "cell_type": "code",
   "execution_count": 4,
   "metadata": {},
   "outputs": [
    {
     "name": "stdout",
     "output_type": "stream",
     "text": [
      "Predicted: [10.0625], Target: [11]\n",
      "R-squared: 0.77\n",
      "Predicted: [10.28125], Target: [8.5]\n",
      "R-squared: 0.77\n",
      "Predicted: [13.09375], Target: [15]\n",
      "R-squared: 0.77\n",
      "Predicted: [18.14583333], Target: [18]\n",
      "R-squared: 0.77\n",
      "Predicted: [13.3125], Target: [11]\n",
      "R-squared: 0.77\n"
     ]
    }
   ],
   "source": [
    "from sklearn.linear_model import LinearRegression\n",
    "\n",
    "X = [[6,2], [8,1], [10,0], [14, 2], [18, 0]]\n",
    "y = [[7],[9],[13],[17.5],[18]]\n",
    "model = LinearRegression()\n",
    "model.fit(X,y)\n",
    "X_test = [[8,2], [9,0],[11,2],[16, 2], [12, 0]]\n",
    "y_test = [[11], [8.5], [15], [18], [11]]\n",
    "predictions = model.predict(X_test)\n",
    "for i, prediction in enumerate(predictions):\n",
    "    print('Predicted: %s, Target: %s' % (prediction, y_test[i]))\n",
    "    print('R-squared: %.2f' % model.score(X_test, y_test))"
   ]
  },
  {
   "cell_type": "code",
   "execution_count": 5,
   "metadata": {},
   "outputs": [
    {
     "data": {
      "text/plain": [
       "LinearRegression()"
      ]
     },
     "execution_count": 5,
     "metadata": {},
     "output_type": "execute_result"
    }
   ],
   "source": [
    "from sklearn.linear_model import LinearRegression\n",
    "\n",
    "X = [[6,2], [8,1],[10,0],[14,2],[18,0]]\n",
    "y = [[7],[9],[13],[17.5],[18]]\n",
    "\n",
    "model = LinearRegression()\n",
    "model.fit(X, y)"
   ]
  },
  {
   "cell_type": "code",
   "execution_count": 6,
   "metadata": {},
   "outputs": [],
   "source": [
    "X_test = [[8,2],[9,0],[11,2],[16,2],[12,0]]\n",
    "y_test = [[11],[8.5],[15],[18],[11]]\n",
    "predictions = model.predict(X_test)"
   ]
  },
  {
   "cell_type": "code",
   "execution_count": 7,
   "metadata": {},
   "outputs": [
    {
     "data": {
      "text/plain": [
       "array([[10.0625    ],\n",
       "       [10.28125   ],\n",
       "       [13.09375   ],\n",
       "       [18.14583333],\n",
       "       [13.3125    ]])"
      ]
     },
     "execution_count": 7,
     "metadata": {},
     "output_type": "execute_result"
    }
   ],
   "source": [
    "predictions"
   ]
  },
  {
   "cell_type": "code",
   "execution_count": 8,
   "metadata": {},
   "outputs": [
    {
     "name": "stdout",
     "output_type": "stream",
     "text": [
      "Predicted: [10.0625], Target: [11]\n",
      "R-squared: 0.77\n",
      "Predicted: [10.28125], Target: [8.5]\n",
      "R-squared: 0.77\n",
      "Predicted: [13.09375], Target: [15]\n",
      "R-squared: 0.77\n",
      "Predicted: [18.14583333], Target: [18]\n",
      "R-squared: 0.77\n",
      "Predicted: [13.3125], Target: [11]\n",
      "R-squared: 0.77\n"
     ]
    }
   ],
   "source": [
    "for i, prediction in enumerate(predictions):\n",
    "    print('Predicted: %s, Target: %s' %(prediction, y_test[i]))\n",
    "    print('R-squared: %.2f' % model.score(X_test, y_test))"
   ]
  },
  {
   "cell_type": "code",
   "execution_count": 9,
   "metadata": {},
   "outputs": [
    {
     "name": "stdout",
     "output_type": "stream",
     "text": [
      "0\n",
      "[10.0625]\n",
      "1\n",
      "[10.28125]\n",
      "2\n",
      "[13.09375]\n",
      "3\n",
      "[18.14583333]\n",
      "4\n",
      "[13.3125]\n"
     ]
    }
   ],
   "source": [
    "for i, prediction in enumerate(predictions):\n",
    "    print(i)\n",
    "    print(prediction)"
   ]
  },
  {
   "cell_type": "code",
   "execution_count": 10,
   "metadata": {},
   "outputs": [
    {
     "data": {
      "text/plain": [
       "0.7701677731318468"
      ]
     },
     "execution_count": 10,
     "metadata": {},
     "output_type": "execute_result"
    }
   ],
   "source": [
    "model.score(X_test, y_test)"
   ]
  },
  {
   "cell_type": "markdown",
   "metadata": {},
   "source": [
    "### 多项式回归"
   ]
  },
  {
   "cell_type": "code",
   "execution_count": 11,
   "metadata": {},
   "outputs": [],
   "source": [
    "import numpy as np\n",
    "import matplotlib.pyplot as plt\n",
    "from sklearn.linear_model import LinearRegression\n",
    "from sklearn.preprocessing import PolynomialFeatures"
   ]
  },
  {
   "cell_type": "code",
   "execution_count": 12,
   "metadata": {},
   "outputs": [
    {
     "data": {
      "text/plain": [
       "LinearRegression()"
      ]
     },
     "execution_count": 12,
     "metadata": {},
     "output_type": "execute_result"
    }
   ],
   "source": [
    "X_train = [[6],[8],[10],[14],[18]]\n",
    "y_train = [[7],[9],[13],[17.5],[18]]\n",
    "X_test = [[6],[8],[11],[16]]\n",
    "y_test = [[8],[12],[15],[18]]\n",
    "regressor = LinearRegression()\n",
    "regressor.fit(X_train, y_train)"
   ]
  },
  {
   "cell_type": "code",
   "execution_count": 13,
   "metadata": {},
   "outputs": [],
   "source": [
    "xx = np.linspace(0, 26, 100)\n",
    "yy = regressor.predict(xx.reshape(xx.shape[0],1))"
   ]
  },
  {
   "cell_type": "code",
   "execution_count": 14,
   "metadata": {},
   "outputs": [
    {
     "data": {
      "text/plain": [
       "array([[ 0.        ],\n",
       "       [ 0.26262626],\n",
       "       [ 0.52525253],\n",
       "       [ 0.78787879],\n",
       "       [ 1.05050505],\n",
       "       [ 1.31313131],\n",
       "       [ 1.57575758],\n",
       "       [ 1.83838384],\n",
       "       [ 2.1010101 ],\n",
       "       [ 2.36363636],\n",
       "       [ 2.62626263],\n",
       "       [ 2.88888889],\n",
       "       [ 3.15151515],\n",
       "       [ 3.41414141],\n",
       "       [ 3.67676768],\n",
       "       [ 3.93939394],\n",
       "       [ 4.2020202 ],\n",
       "       [ 4.46464646],\n",
       "       [ 4.72727273],\n",
       "       [ 4.98989899],\n",
       "       [ 5.25252525],\n",
       "       [ 5.51515152],\n",
       "       [ 5.77777778],\n",
       "       [ 6.04040404],\n",
       "       [ 6.3030303 ],\n",
       "       [ 6.56565657],\n",
       "       [ 6.82828283],\n",
       "       [ 7.09090909],\n",
       "       [ 7.35353535],\n",
       "       [ 7.61616162],\n",
       "       [ 7.87878788],\n",
       "       [ 8.14141414],\n",
       "       [ 8.4040404 ],\n",
       "       [ 8.66666667],\n",
       "       [ 8.92929293],\n",
       "       [ 9.19191919],\n",
       "       [ 9.45454545],\n",
       "       [ 9.71717172],\n",
       "       [ 9.97979798],\n",
       "       [10.24242424],\n",
       "       [10.50505051],\n",
       "       [10.76767677],\n",
       "       [11.03030303],\n",
       "       [11.29292929],\n",
       "       [11.55555556],\n",
       "       [11.81818182],\n",
       "       [12.08080808],\n",
       "       [12.34343434],\n",
       "       [12.60606061],\n",
       "       [12.86868687],\n",
       "       [13.13131313],\n",
       "       [13.39393939],\n",
       "       [13.65656566],\n",
       "       [13.91919192],\n",
       "       [14.18181818],\n",
       "       [14.44444444],\n",
       "       [14.70707071],\n",
       "       [14.96969697],\n",
       "       [15.23232323],\n",
       "       [15.49494949],\n",
       "       [15.75757576],\n",
       "       [16.02020202],\n",
       "       [16.28282828],\n",
       "       [16.54545455],\n",
       "       [16.80808081],\n",
       "       [17.07070707],\n",
       "       [17.33333333],\n",
       "       [17.5959596 ],\n",
       "       [17.85858586],\n",
       "       [18.12121212],\n",
       "       [18.38383838],\n",
       "       [18.64646465],\n",
       "       [18.90909091],\n",
       "       [19.17171717],\n",
       "       [19.43434343],\n",
       "       [19.6969697 ],\n",
       "       [19.95959596],\n",
       "       [20.22222222],\n",
       "       [20.48484848],\n",
       "       [20.74747475],\n",
       "       [21.01010101],\n",
       "       [21.27272727],\n",
       "       [21.53535354],\n",
       "       [21.7979798 ],\n",
       "       [22.06060606],\n",
       "       [22.32323232],\n",
       "       [22.58585859],\n",
       "       [22.84848485],\n",
       "       [23.11111111],\n",
       "       [23.37373737],\n",
       "       [23.63636364],\n",
       "       [23.8989899 ],\n",
       "       [24.16161616],\n",
       "       [24.42424242],\n",
       "       [24.68686869],\n",
       "       [24.94949495],\n",
       "       [25.21212121],\n",
       "       [25.47474747],\n",
       "       [25.73737374],\n",
       "       [26.        ]])"
      ]
     },
     "execution_count": 14,
     "metadata": {},
     "output_type": "execute_result"
    }
   ],
   "source": [
    "xx.reshape(xx.shape[0],1)"
   ]
  },
  {
   "cell_type": "code",
   "execution_count": 15,
   "metadata": {},
   "outputs": [
    {
     "data": {
      "text/plain": [
       "[<matplotlib.lines.Line2D at 0x20bfbf31190>]"
      ]
     },
     "execution_count": 15,
     "metadata": {},
     "output_type": "execute_result"
    },
    {
     "data": {
      "image/png": "[encoded data removed]",
      "text/plain": [
       "<Figure size 432x288 with 1 Axes>"
      ]
     },
     "metadata": {
      "needs_background": "light"
     },
     "output_type": "display_data"
    }
   ],
   "source": [
    "plt.plot(xx,yy)"
   ]
  },
  {
   "cell_type": "code",
   "execution_count": 16,
   "metadata": {},
   "outputs": [],
   "source": [
    "quadratic_featurizer = PolynomialFeatures(degree = 2)"
   ]
  },
  {
   "cell_type": "code",
   "execution_count": 17,
   "metadata": {},
   "outputs": [
    {
     "data": {
      "text/plain": [
       "PolynomialFeatures()"
      ]
     },
     "execution_count": 17,
     "metadata": {},
     "output_type": "execute_result"
    }
   ],
   "source": [
    "quadratic_featurizer"
   ]
  },
  {
   "cell_type": "code",
   "execution_count": 18,
   "metadata": {},
   "outputs": [
    {
     "data": {
      "text/plain": [
       "LinearRegression()"
      ]
     },
     "execution_count": 18,
     "metadata": {},
     "output_type": "execute_result"
    }
   ],
   "source": [
    "X_train_quadratic = quadratic_featurizer.fit_transform(X_train)\n",
    "X_test_quadratic = quadratic_featurizer.fit_transform(X_test)\n",
    "regressor_quadratic = LinearRegression()\n",
    "regressor_quadratic.fit(X_train_quadratic, y_train)"
   ]
  },
  {
   "cell_type": "code",
   "execution_count": 19,
   "metadata": {},
   "outputs": [],
   "source": [
    "xx_quadratic = quadratic_featurizer.transform(xx.reshape(xx.shape[0],1))"
   ]
  },
  {
   "cell_type": "code",
   "execution_count": 20,
   "metadata": {},
   "outputs": [
    {
     "data": {
      "text/plain": [
       "[<matplotlib.lines.Line2D at 0x20bfcfd3850>]"
      ]
     },
     "execution_count": 20,
     "metadata": {},
     "output_type": "execute_result"
    },
    {
     "data": {
      "image/png": "[encoded data removed]",
      "text/plain": [
       "<Figure size 432x288 with 1 Axes>"
      ]
     },
     "metadata": {
      "needs_background": "light"
     },
     "output_type": "display_data"
    }
   ],
   "source": [
    "plt.plot(xx,regressor_quadratic.predict(xx_quadratic), c= \"r\",linestyle = \"--\")"
   ]
  },
  {
   "cell_type": "code",
   "execution_count": 21,
   "metadata": {},
   "outputs": [
    {
     "data": {
      "text/plain": [
       "Text(0.5, 1.0, 'Pizza price regressed on diameter')"
      ]
     },
     "execution_count": 21,
     "metadata": {},
     "output_type": "execute_result"
    },
    {
     "data": {
      "image/png": "[encoded data removed]",
      "text/plain": [
       "<Figure size 432x288 with 1 Axes>"
      ]
     },
     "metadata": {
      "needs_background": "light"
     },
     "output_type": "display_data"
    }
   ],
   "source": [
    "plt.title(\"Pizza price regressed on diameter\")"
   ]
  },
  {
   "cell_type": "code",
   "execution_count": 22,
   "metadata": {},
   "outputs": [
    {
     "data": {
      "image/png": "[encoded data removed]",
      "text/plain": [
       "<Figure size 432x288 with 1 Axes>"
      ]
     },
     "metadata": {
      "needs_background": "light"
     },
     "output_type": "display_data"
    }
   ],
   "source": [
    "plt.xlabel('Diameter in inches')\n",
    "plt.ylabel('Price in dollars')\n",
    "plt.axis([0, 25, 0,25])\n",
    "plt.grid(True)\n",
    "plt.scatter(X_train, y_train)\n",
    "plt.show()"
   ]
  },
  {
   "cell_type": "code",
   "execution_count": 23,
   "metadata": {},
   "outputs": [
    {
     "name": "stdout",
     "output_type": "stream",
     "text": [
      "[[6], [8], [10], [14], [18]]\n"
     ]
    }
   ],
   "source": [
    "print(X_train)"
   ]
  },
  {
   "cell_type": "code",
   "execution_count": 24,
   "metadata": {},
   "outputs": [
    {
     "name": "stdout",
     "output_type": "stream",
     "text": [
      "[[  1.   6.  36.]\n",
      " [  1.   8.  64.]\n",
      " [  1.  10. 100.]\n",
      " [  1.  14. 196.]\n",
      " [  1.  18. 324.]]\n",
      "[[6], [8], [11], [16]]\n",
      "[[  1.   6.  36.]\n",
      " [  1.   8.  64.]\n",
      " [  1.  11. 121.]\n",
      " [  1.  16. 256.]]\n",
      "Simple linear regression r-squared 0.809726797707665\n",
      "Quadratic regression r-squared 0.8675443656345073\n"
     ]
    }
   ],
   "source": [
    "print(X_train_quadratic)\n",
    "print(X_test)\n",
    "print(X_test_quadratic)\n",
    "print('Simple linear regression r-squared', regressor.score(X_test, y_test))\n",
    "print('Quadratic regression r-squared',\n",
    "     regressor_quadratic.score(X_test_quadratic, y_test))"
   ]
  },
  {
   "cell_type": "raw",
   "metadata": {},
   "source": [
    "正则化是一个能用于防止过拟合的技巧的集合。正则化为一个问题增加信息，通常用一个对抗复杂度惩罚项的形式。奥卡姆剃刀理论说做最少假设的假设是最优的。正因为如此，正则化想要找到最简单的模型来解释数据。\n",
    "\n",
    "1、scikit-learn类库提供了几个正则化线性回归模型。岭回归也被称为提克洛夫规范化。可以惩罚变大的模型参数。岭回归通过增加系数的L^2范数来修改RSS代价函数\n",
    "2、scikit-learn库也提供了最小绝对收缩和选择算子（LASSO）的一种实现。LASSO算法通过对代价函数增加L^1范数来惩罚系数。\n",
    "\n",
    "3、最后，scikit-learn库提供了弹性网正则化的一种实现，它是LASSO回归的L^1惩罚项和岭回归的L^2惩罚项的线性组合。也就是说，LASSO回归和岭回归都是弹性网方法的特殊形式，其中L^1或者L^2惩罚项对应的超参数分别等于0."
   ]
  },
  {
   "cell_type": "markdown",
   "metadata": {},
   "source": [
    "# 代码样例：\n"
   ]
  },
  {
   "cell_type": "markdown",
   "metadata": {},
   "source": [
    "from sklearn.linear_model import LinearRegression\n",
    "\n",
    "import pandas as pd\n",
    "\n",
    "import matplotlib.pyplot as plt\n",
    "\n",
    "from sklearn.model_selection import train_test_split\n",
    "\n",
    "df = pd.read_csv('./Winequality-red.csv', sep = \"r\")\n",
    "\n",
    "X = df[list(df.columns)[:-1]]\n",
    "\n",
    "y = df['quality']\n",
    "\n",
    "X_train, X_test, y_train, y_test = train_test_split(X, y)\n",
    "\n",
    "regressor = LinearRegression()\n",
    "\n",
    "regressor.fit(X_train, y_train)\n",
    "\n",
    "y_prediction = regressor.predict(X_test)\n",
    "\n",
    "print('R-squared: %s' % regressor.score(X_test, y_test))"
   ]
  },
  {
   "cell_type": "markdown",
   "metadata": {},
   "source": [
    "交叉验证：\n",
    "在scikit-learn中，我们可以非常容易的使用交叉验证，我们引入：from sklearn.model_selection import cross_val_score。在引入cross_val_score后我们可以很容易的使用交叉验证的方法。交叉验证的方法可以帮助我们更好的评估预测器在某特定数据集上的预测性能。在cross_val_score中我们用：cv关键字指定要做的交叉验证的次数。每次验证就是对该模型在数据集上进行一次拟合。最后sross_val_score的分数就是多次拟合结果分数的平均。\n"
   ]
  },
  {
   "cell_type": "markdown",
   "metadata": {},
   "source": [
    "在机器学习中我们使用梯度下降法来求出能使代价函数极小化对应的参数值。梯度下降法的意识是说利用逐渐下降的梯度来找到一个函数的局部最小值。\n",
    "\n",
    "什么是梯度：梯度就是在某一点上方向导数的最大值。就是在某一点上函数变化率最大的方向。通过让梯度的值逐渐减小来达到找到局部最小值的方法。"
   ]
  },
  {
   "cell_type": "markdown",
   "metadata": {},
   "source": [
    "#### 梯度下降法来估计一个模型的参数举例"
   ]
  },
  {
   "cell_type": "code",
   "execution_count": 30,
   "metadata": {},
   "outputs": [],
   "source": [
    "import numpy as np\n",
    "from sklearn.datasets import load_boston\n",
    "from sklearn.linear_model import SGDRegressor\n",
    "from sklearn.model_selection import cross_val_score\n",
    "from sklearn.preprocessing import StandardScaler\n",
    "from sklearn.model_selection import train_test_split\n",
    "\n",
    "data = load_boston()\n",
    "X_train, X_test, y_train, y_test = train_test_split(data.data, data.target)"
   ]
  },
  {
   "cell_type": "code",
   "execution_count": 32,
   "metadata": {},
   "outputs": [
    {
     "data": {
      "text/plain": [
       "array([[3.23700e-02, 0.00000e+00, 2.18000e+00, ..., 1.87000e+01,\n",
       "        3.94630e+02, 2.94000e+00],\n",
       "       [1.13290e-01, 3.00000e+01, 4.93000e+00, ..., 1.66000e+01,\n",
       "        3.91250e+02, 1.13800e+01],\n",
       "       [7.02200e-02, 0.00000e+00, 4.05000e+00, ..., 1.66000e+01,\n",
       "        3.93230e+02, 1.01100e+01],\n",
       "       ...,\n",
       "       [2.59406e+01, 0.00000e+00, 1.81000e+01, ..., 2.02000e+01,\n",
       "        1.27360e+02, 2.66400e+01],\n",
       "       [1.71340e-01, 0.00000e+00, 1.00100e+01, ..., 1.78000e+01,\n",
       "        3.44910e+02, 1.57600e+01],\n",
       "       [5.20580e-01, 0.00000e+00, 6.20000e+00, ..., 1.74000e+01,\n",
       "        3.88450e+02, 9.54000e+00]])"
      ]
     },
     "execution_count": 32,
     "metadata": {},
     "output_type": "execute_result"
    }
   ],
   "source": [
    "X_train"
   ]
  },
  {
   "cell_type": "code",
   "execution_count": 35,
   "metadata": {},
   "outputs": [
    {
     "data": {
      "text/plain": [
       "array([[6.3200e-03, 1.8000e+01, 2.3100e+00, ..., 1.5300e+01, 3.9690e+02,\n",
       "        4.9800e+00],\n",
       "       [2.7310e-02, 0.0000e+00, 7.0700e+00, ..., 1.7800e+01, 3.9690e+02,\n",
       "        9.1400e+00],\n",
       "       [2.7290e-02, 0.0000e+00, 7.0700e+00, ..., 1.7800e+01, 3.9283e+02,\n",
       "        4.0300e+00],\n",
       "       ...,\n",
       "       [6.0760e-02, 0.0000e+00, 1.1930e+01, ..., 2.1000e+01, 3.9690e+02,\n",
       "        5.6400e+00],\n",
       "       [1.0959e-01, 0.0000e+00, 1.1930e+01, ..., 2.1000e+01, 3.9345e+02,\n",
       "        6.4800e+00],\n",
       "       [4.7410e-02, 0.0000e+00, 1.1930e+01, ..., 2.1000e+01, 3.9690e+02,\n",
       "        7.8800e+00]])"
      ]
     },
     "execution_count": 35,
     "metadata": {},
     "output_type": "execute_result"
    }
   ],
   "source": [
    "data.data"
   ]
  },
  {
   "cell_type": "code",
   "execution_count": 36,
   "metadata": {},
   "outputs": [
    {
     "data": {
      "text/plain": [
       "array([24. , 21.6, 34.7, 33.4, 36.2, 28.7, 22.9, 27.1, 16.5, 18.9, 15. ,\n",
       "       18.9, 21.7, 20.4, 18.2, 19.9, 23.1, 17.5, 20.2, 18.2, 13.6, 19.6,\n",
       "       15.2, 14.5, 15.6, 13.9, 16.6, 14.8, 18.4, 21. , 12.7, 14.5, 13.2,\n",
       "       13.1, 13.5, 18.9, 20. , 21. , 24.7, 30.8, 34.9, 26.6, 25.3, 24.7,\n",
       "       21.2, 19.3, 20. , 16.6, 14.4, 19.4, 19.7, 20.5, 25. , 23.4, 18.9,\n",
       "       35.4, 24.7, 31.6, 23.3, 19.6, 18.7, 16. , 22.2, 25. , 33. , 23.5,\n",
       "       19.4, 22. , 17.4, 20.9, 24.2, 21.7, 22.8, 23.4, 24.1, 21.4, 20. ,\n",
       "       20.8, 21.2, 20.3, 28. , 23.9, 24.8, 22.9, 23.9, 26.6, 22.5, 22.2,\n",
       "       23.6, 28.7, 22.6, 22. , 22.9, 25. , 20.6, 28.4, 21.4, 38.7, 43.8,\n",
       "       33.2, 27.5, 26.5, 18.6, 19.3, 20.1, 19.5, 19.5, 20.4, 19.8, 19.4,\n",
       "       21.7, 22.8, 18.8, 18.7, 18.5, 18.3, 21.2, 19.2, 20.4, 19.3, 22. ,\n",
       "       20.3, 20.5, 17.3, 18.8, 21.4, 15.7, 16.2, 18. , 14.3, 19.2, 19.6,\n",
       "       23. , 18.4, 15.6, 18.1, 17.4, 17.1, 13.3, 17.8, 14. , 14.4, 13.4,\n",
       "       15.6, 11.8, 13.8, 15.6, 14.6, 17.8, 15.4, 21.5, 19.6, 15.3, 19.4,\n",
       "       17. , 15.6, 13.1, 41.3, 24.3, 23.3, 27. , 50. , 50. , 50. , 22.7,\n",
       "       25. , 50. , 23.8, 23.8, 22.3, 17.4, 19.1, 23.1, 23.6, 22.6, 29.4,\n",
       "       23.2, 24.6, 29.9, 37.2, 39.8, 36.2, 37.9, 32.5, 26.4, 29.6, 50. ,\n",
       "       32. , 29.8, 34.9, 37. , 30.5, 36.4, 31.1, 29.1, 50. , 33.3, 30.3,\n",
       "       34.6, 34.9, 32.9, 24.1, 42.3, 48.5, 50. , 22.6, 24.4, 22.5, 24.4,\n",
       "       20. , 21.7, 19.3, 22.4, 28.1, 23.7, 25. , 23.3, 28.7, 21.5, 23. ,\n",
       "       26.7, 21.7, 27.5, 30.1, 44.8, 50. , 37.6, 31.6, 46.7, 31.5, 24.3,\n",
       "       31.7, 41.7, 48.3, 29. , 24. , 25.1, 31.5, 23.7, 23.3, 22. , 20.1,\n",
       "       22.2, 23.7, 17.6, 18.5, 24.3, 20.5, 24.5, 26.2, 24.4, 24.8, 29.6,\n",
       "       42.8, 21.9, 20.9, 44. , 50. , 36. , 30.1, 33.8, 43.1, 48.8, 31. ,\n",
       "       36.5, 22.8, 30.7, 50. , 43.5, 20.7, 21.1, 25.2, 24.4, 35.2, 32.4,\n",
       "       32. , 33.2, 33.1, 29.1, 35.1, 45.4, 35.4, 46. , 50. , 32.2, 22. ,\n",
       "       20.1, 23.2, 22.3, 24.8, 28.5, 37.3, 27.9, 23.9, 21.7, 28.6, 27.1,\n",
       "       20.3, 22.5, 29. , 24.8, 22. , 26.4, 33.1, 36.1, 28.4, 33.4, 28.2,\n",
       "       22.8, 20.3, 16.1, 22.1, 19.4, 21.6, 23.8, 16.2, 17.8, 19.8, 23.1,\n",
       "       21. , 23.8, 23.1, 20.4, 18.5, 25. , 24.6, 23. , 22.2, 19.3, 22.6,\n",
       "       19.8, 17.1, 19.4, 22.2, 20.7, 21.1, 19.5, 18.5, 20.6, 19. , 18.7,\n",
       "       32.7, 16.5, 23.9, 31.2, 17.5, 17.2, 23.1, 24.5, 26.6, 22.9, 24.1,\n",
       "       18.6, 30.1, 18.2, 20.6, 17.8, 21.7, 22.7, 22.6, 25. , 19.9, 20.8,\n",
       "       16.8, 21.9, 27.5, 21.9, 23.1, 50. , 50. , 50. , 50. , 50. , 13.8,\n",
       "       13.8, 15. , 13.9, 13.3, 13.1, 10.2, 10.4, 10.9, 11.3, 12.3,  8.8,\n",
       "        7.2, 10.5,  7.4, 10.2, 11.5, 15.1, 23.2,  9.7, 13.8, 12.7, 13.1,\n",
       "       12.5,  8.5,  5. ,  6.3,  5.6,  7.2, 12.1,  8.3,  8.5,  5. , 11.9,\n",
       "       27.9, 17.2, 27.5, 15. , 17.2, 17.9, 16.3,  7. ,  7.2,  7.5, 10.4,\n",
       "        8.8,  8.4, 16.7, 14.2, 20.8, 13.4, 11.7,  8.3, 10.2, 10.9, 11. ,\n",
       "        9.5, 14.5, 14.1, 16.1, 14.3, 11.7, 13.4,  9.6,  8.7,  8.4, 12.8,\n",
       "       10.5, 17.1, 18.4, 15.4, 10.8, 11.8, 14.9, 12.6, 14.1, 13. , 13.4,\n",
       "       15.2, 16.1, 17.8, 14.9, 14.1, 12.7, 13.5, 14.9, 20. , 16.4, 17.7,\n",
       "       19.5, 20.2, 21.4, 19.9, 19. , 19.1, 19.1, 20.1, 19.9, 19.6, 23.2,\n",
       "       29.8, 13.8, 13.3, 16.7, 12. , 14.6, 21.4, 23. , 23.7, 25. , 21.8,\n",
       "       20.6, 21.2, 19.1, 20.6, 15.2,  7. ,  8.1, 13.6, 20.1, 21.8, 24.5,\n",
       "       23.1, 19.7, 18.3, 21.2, 17.5, 16.8, 22.4, 20.6, 23.9, 22. , 11.9])"
      ]
     },
     "execution_count": 36,
     "metadata": {},
     "output_type": "execute_result"
    }
   ],
   "source": [
    "data.target"
   ]
  },
  {
   "cell_type": "markdown",
   "metadata": {},
   "source": [
    "在进行机器学习建模的时候我们的常规方法是：\n",
    "1、首先要将数据进行标准化处理\n",
    "2、其次我们要将数据分为训练集和测试集\n",
    "3、对数据进行拟合，并对模型结果在测试集上进行测试"
   ]
  },
  {
   "cell_type": "code",
   "execution_count": 44,
   "metadata": {},
   "outputs": [
    {
     "name": "stdout",
     "output_type": "stream",
     "text": [
      "Cross validation r_squared scores: [0.70258304 0.72567596 0.67887325 0.72212318 0.80156976]\n",
      "Average cross validation r-squared score: 0.7261650362432824\n",
      "Test set r-squared score 0.6130145959526693\n"
     ]
    },
    {
     "name": "stderr",
     "output_type": "stream",
     "text": [
      "G:\\anaconda\\lib\\site-packages\\sklearn\\utils\\validation.py:72: DataConversionWarning: A column-vector y was passed when a 1d array was expected. Please change the shape of y to (n_samples, ), for example using ravel().\n",
      "  return f(**kwargs)\n",
      "G:\\anaconda\\lib\\site-packages\\sklearn\\utils\\validation.py:72: DataConversionWarning: A column-vector y was passed when a 1d array was expected. Please change the shape of y to (n_samples, ), for example using ravel().\n",
      "  return f(**kwargs)\n",
      "G:\\anaconda\\lib\\site-packages\\sklearn\\utils\\validation.py:72: DataConversionWarning: A column-vector y was passed when a 1d array was expected. Please change the shape of y to (n_samples, ), for example using ravel().\n",
      "  return f(**kwargs)\n",
      "G:\\anaconda\\lib\\site-packages\\sklearn\\utils\\validation.py:72: DataConversionWarning: A column-vector y was passed when a 1d array was expected. Please change the shape of y to (n_samples, ), for example using ravel().\n",
      "  return f(**kwargs)\n",
      "G:\\anaconda\\lib\\site-packages\\sklearn\\utils\\validation.py:72: DataConversionWarning: A column-vector y was passed when a 1d array was expected. Please change the shape of y to (n_samples, ), for example using ravel().\n",
      "  return f(**kwargs)\n",
      "G:\\anaconda\\lib\\site-packages\\sklearn\\utils\\validation.py:72: DataConversionWarning: A column-vector y was passed when a 1d array was expected. Please change the shape of y to (n_samples, ), for example using ravel().\n",
      "  return f(**kwargs)\n"
     ]
    }
   ],
   "source": [
    "X_scaler = StandardScaler()\n",
    "y_scaler = StandardScaler()\n",
    "X_train_scaler = X_scaler.fit_transform(X_train)\n",
    "y_train_scaler = y_scaler.fit_transform(y_train.reshape(-1,1))\n",
    "X_test_scaler = X_scaler.fit_transform(X_test)\n",
    "y_test_scaler = y_scaler.fit_transform(y_test.reshape(-1,1))\n",
    "regessor_SG = SGDRegressor(loss = 'squared_loss')\n",
    "fit_regessor_SG = cross_val_score(regessor_SG, X_train_scaler, y_train_scaler, cv= 5)\n",
    "print('Cross validation r_squared scores: %s' % fit_regessor_SG)\n",
    "print('Average cross validation r-squared score: %s' % np.mean(fit_regessor_SG))\n",
    "regessor_SG.fit(X_train_scaler, y_train_scaler)\n",
    "print('Test set r-squared score %s' % regessor_SG.score(X_test_scaler, y_test_scaler))\n",
    "      "
   ]
  },
  {
   "cell_type": "code",
   "execution_count": null,
   "metadata": {},
   "outputs": [],
   "source": []
  }
 ],
 "metadata": {
  "kernelspec": {
   "display_name": "Python 3",
   "language": "python",
   "name": "python3"
  },
  "language_info": {
   "codemirror_mode": {
    "name": "ipython",
    "version": 3
   },
   "file_extension": ".py",
   "mimetype": "text/x-python",
   "name": "python",
   "nbconvert_exporter": "python",
   "pygments_lexer": "ipython3",
   "version": "3.8.5"
  }
 },
 "nbformat": 4,
 "nbformat_minor": 4
}
